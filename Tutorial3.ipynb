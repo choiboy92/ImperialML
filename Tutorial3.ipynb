{
  "nbformat": 4,
  "nbformat_minor": 0,
  "metadata": {
    "colab": {
      "name": "Tutorial3.ipynb",
      "provenance": [],
      "authorship_tag": "ABX9TyNRW3kcoQtYdPV7V64F6B5n",
      "include_colab_link": true
    },
    "kernelspec": {
      "name": "python3",
      "display_name": "Python 3"
    },
    "language_info": {
      "name": "python"
    }
  },
  "cells": [
    {
      "cell_type": "markdown",
      "metadata": {
        "id": "view-in-github",
        "colab_type": "text"
      },
      "source": [
        "<a href=\"https://colab.research.google.com/github/choiboy92/ImperialML/blob/main/Tutorial3.ipynb\" target=\"_parent\"><img src=\"https://colab.research.google.com/assets/colab-badge.svg\" alt=\"Open In Colab\"/></a>"
      ]
    },
    {
      "cell_type": "code",
      "metadata": {
        "id": "ePGpQ8cO9Ufc"
      },
      "source": [
        "# import packages\n",
        "\n",
        "import numpy as np\n",
        "import matplotlib.pyplot as plt\n",
        "import pandas\n",
        "\n",
        "df = pandas.read_csv('http://pogo.software/me4ml/xray.csv')\n",
        "x = np.array(df['Distance (mm)'][:])\n",
        "y = np.array(df['Total absorption'][:])\n",
        "\n",
        "# n.b. len(x) = 1000"
      ],
      "execution_count": 4,
      "outputs": []
    }
  ]
}