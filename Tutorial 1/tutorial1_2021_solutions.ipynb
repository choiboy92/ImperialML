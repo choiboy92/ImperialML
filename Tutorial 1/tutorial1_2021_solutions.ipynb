{
  "nbformat": 4,
  "nbformat_minor": 0,
  "metadata": {
    "colab": {
      "name": "tutorial1_2021_ph.ipynb",
      "provenance": [],
      "collapsed_sections": []
    },
    "kernelspec": {
      "name": "python3",
      "display_name": "Python 3"
    }
  },
  "cells": [
    {
      "cell_type": "code",
      "metadata": {
        "id": "28DIlpJJK8jm"
      },
      "source": [
        "import numpy as np\n",
        "from sklearn import datasets\n",
        "import matplotlib.pyplot as plt\n",
        "\n",
        "np.random.seed(0)\n",
        "\n",
        "X, y = datasets.make_classification(n_samples=100, n_features=2, n_informative=2, n_redundant=0)\n",
        "\n",
        "X[:, 0] = X[:, 0] * 0.5 + 5\n",
        "X[:, 1] = X[:, 1] * 30 + 160\n",
        "\n",
        "fig, ax = plt.subplots()\n",
        "ax.scatter(X[y == 0, 0], X[y == 0, 1])\n",
        "ax.scatter(X[y == 1, 0], X[y == 1, 1])\n",
        "\n",
        "x1 = np.linspace(3.5, 7.0, 100)\n",
        "x2 = x1 * -280 + 1400\n",
        "# a better version?:\n",
        "#x2 = x1 * -300 + 1600\n",
        "\n",
        "plt.plot(x1, x2)\n",
        "\n",
        "plt.ylim(50, 250)\n",
        "plt.xlim(3.2, 7.0)\n",
        "\n",
        "plt.show()\n"
      ],
      "execution_count": null,
      "outputs": []
    },
    {
      "cell_type": "code",
      "metadata": {
        "id": "k8aM7Nz2PcLE"
      },
      "source": [
        "def get_cov(sdx=1, sdy=1, rotangdeg=0):\n",
        "  covar = np.array([[sdx, 0], [0, sdy]])\n",
        "  rot_ang = rotangdeg / 360 * 2 * np.pi\n",
        "  rot_mat = np.array([[np.cos(rot_ang), -np.sin(rot_ang)], [np.sin(rot_ang), np.cos(rot_ang)]])\n",
        "  \n",
        "  covar = np.matmul(np.matmul(rot_mat, covar), rot_mat.T)\n",
        "  return covar \n",
        "\n",
        "x1line = np.linspace(-1, 1, 200) \n",
        "x2line = np.linspace(-1, 1, 200)\n",
        "\n",
        "x1grid, x2grid = np.meshgrid(x1line, x2line) \n",
        "\n",
        "Xgrid = np.array([x1grid, x2grid]).reshape([2,40000]).T\n",
        "\n",
        "#Or use function:\n",
        "def gen_sample_grid(npx=200, npy=200, limit=1):\n",
        "  x1line = np.linspace(-limit, limit, npx)\n",
        "  x2line = np.linspace(-limit, limit, npy)\n",
        "  x1grid, x2grid = np.meshgrid(x1line, x2line)\n",
        "  Xgrid = np.array([x1grid, x2grid]).reshape([2,npx*npy]).T\n",
        "  return Xgrid,x1line,x2line\n",
        "#Xgrid,x1line,x2line = gen_sample_grid(200,200,1)\n",
        "\n",
        "covar = get_cov(sdx=1, sdy = 0.1, rotangdeg = 30)\n",
        "\n",
        "p = 1 / (2 * np.pi * np.sqrt(np.linalg.det(covar))) * np.exp(\n",
        "    -1 / 2 * (np.matmul(Xgrid, np.linalg.inv(covar)) * Xgrid).sum(-1))\n",
        "\n",
        "pgrid = np.reshape(p, [200, 200])\n",
        "\n",
        "fig, ax = plt.subplots()\n",
        "plt.contourf(x1line, x2line, pgrid)\n",
        "\n",
        "plt.show()"
      ],
      "execution_count": null,
      "outputs": []
    },
    {
      "cell_type": "code",
      "metadata": {
        "id": "uFbSaXoYSA2G"
      },
      "source": [
        "distvals = np.random.multivariate_normal([0, 0], covar, 100)\n",
        "#distvals = np.random.multivariate_normal([0, 0], covar, 20000) # to compare with distribution\n",
        "\n",
        "fig, ax = plt.subplots()\n",
        "\n",
        "ax.scatter(distvals[:, 0], distvals[:, 1])\n",
        "#ax.scatter(distvals[:, 0], distvals[:, 1], s = 1) # to compare with distribution \n",
        "plt.ylim(-1, 1)\n",
        "plt.xlim(-1, 1)\n",
        "\n",
        "plt.show()"
      ],
      "execution_count": null,
      "outputs": []
    },
    {
      "cell_type": "code",
      "metadata": {
        "id": "l2GsvAPQS1Lq"
      },
      "source": [
        "def gen_circular_distribution(n=700, scale=1):\n",
        "    a = np.round(n / 7).astype('int')\n",
        "    b = np.round(2*n / 7).astype('int')\n",
        "    c = n - a - b\n",
        "    r1 = np.concatenate(\n",
        "        [np.random.normal(loc=2, scale=scale, size=[a, 1]), np.random.normal(loc=8, scale=scale, size=[c, 1])])\n",
        "    r2 = np.random.normal(loc=5, scale=scale, size=[b, 1])\n",
        "\n",
        "    th1 = np.random.uniform(low=0, high=2 * np.pi, size=[a+c, 1])\n",
        "    th2 = np.random.uniform(low=0, high=2 * np.pi, size=[b, 1])\n",
        "\n",
        "    x1a = r1 * np.cos(th1)\n",
        "    x2a = r1 * np.sin(th1)\n",
        "\n",
        "    x1b = r2 * np.cos(th2)\n",
        "    x2b = r2 * np.sin(th2)\n",
        "\n",
        "    X = np.concatenate([np.concatenate([x1a.reshape([a+c, 1]), x1b.reshape([b, 1])]),\n",
        "                        np.concatenate([x2a.reshape([a+c, 1]), x2b.reshape([b, 1])])], axis=1)\n",
        "\n",
        "    y = np.concatenate([np.zeros([a+c, 1]), np.ones([b, 1])]).squeeze()\n",
        "    return X, y\n",
        "\n",
        "\n",
        "\n",
        "\n",
        "X, y = gen_circular_distribution(n=700, scale=1)\n",
        "\n",
        "fig, ax = plt.subplots()\n",
        "ax.scatter(X[y == 0, 0], X[y == 0, 1])\n",
        "ax.scatter(X[y == 1, 0], X[y == 1, 1])\n",
        "\n",
        "plt.show()\n"
      ],
      "execution_count": null,
      "outputs": []
    }
  ]
}