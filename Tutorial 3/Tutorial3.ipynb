{
  "nbformat": 4,
  "nbformat_minor": 0,
  "metadata": {
    "colab": {
      "name": "Tutorial3.ipynb",
      "provenance": [],
      "authorship_tag": "ABX9TyONFvDVejmNHOTAwybAojRa",
      "include_colab_link": true
    },
    "kernelspec": {
      "name": "python3",
      "display_name": "Python 3"
    },
    "language_info": {
      "name": "python"
    }
  },
  "cells": [
    {
      "cell_type": "markdown",
      "metadata": {
        "id": "view-in-github",
        "colab_type": "text"
      },
      "source": [
        "<a href=\"https://colab.research.google.com/github/choiboy92/ImperialML/blob/main/Tutorial%203/Tutorial3.ipynb\" target=\"_parent\"><img src=\"https://colab.research.google.com/assets/colab-badge.svg\" alt=\"Open In Colab\"/></a>"
      ]
    },
    {
      "cell_type": "code",
      "metadata": {
        "id": "ePGpQ8cO9Ufc",
        "colab": {
          "base_uri": "https://localhost:8080/"
        },
        "outputId": "63169271-4cc2-438e-971e-dc93da3fb6f3"
      },
      "source": [
        "# import packages\n",
        "\n",
        "import numpy as np\n",
        "import matplotlib.pyplot as plt\n",
        "import pandas\n",
        "\n",
        "df = pandas.read_csv('http://pogo.software/me4ml/xray.csv')\n",
        "x = np.array(df['Distance (mm)'][:])\n",
        "y = np.array(df['Total absorption'][:])\n",
        "\n",
        "# n.b. len(x) = 1000\n",
        "A = np.array([[np.sum(x), np.sum(x**2)],\n",
        "              [len(x), np.sum(x)]])\n",
        "\n",
        "b = np.array([[np.dot(x,y)],[np.sum(y)]])\n",
        "\n",
        "beta = np.linalg.solve(A, b)\n",
        "b1 = beta[0][0]   # the y intercept\n",
        "b2 = beta[1][0]   # the gradient\n",
        "\n"
      ],
      "execution_count": 13,
      "outputs": [
        {
          "output_type": "stream",
          "name": "stdout",
          "text": [
            "33.60823436358181\n"
          ]
        }
      ]
    }
  ]
}