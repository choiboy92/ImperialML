{
  "nbformat": 4,
  "nbformat_minor": 0,
  "metadata": {
    "colab": {
      "name": "Tutorial5.ipynb",
      "provenance": [],
      "authorship_tag": "ABX9TyNFGVaHaGfU2k+u9ZtWPq4m",
      "include_colab_link": true
    },
    "kernelspec": {
      "name": "python3",
      "display_name": "Python 3"
    },
    "language_info": {
      "name": "python"
    }
  },
  "cells": [
    {
      "cell_type": "markdown",
      "metadata": {
        "id": "view-in-github",
        "colab_type": "text"
      },
      "source": [
        "<a href=\"https://colab.research.google.com/github/choiboy92/ImperialML/blob/main/Tutorial%205/Tutorial5.ipynb\" target=\"_parent\"><img src=\"https://colab.research.google.com/assets/colab-badge.svg\" alt=\"Open In Colab\"/></a>"
      ]
    },
    {
      "cell_type": "code",
      "metadata": {
        "id": "Z6L0mAeqF8Nf"
      },
      "source": [
        "import numpy as np\n",
        "import pandas\n"
      ],
      "execution_count": 1,
      "outputs": []
    }
  ]
}