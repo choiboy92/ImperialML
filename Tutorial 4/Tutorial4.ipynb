{
  "nbformat": 4,
  "nbformat_minor": 0,
  "metadata": {
    "colab": {
      "name": "Tutorial4.ipynb",
      "provenance": [],
      "authorship_tag": "ABX9TyNdzyrAyA6l3/cQ6dgB27bv",
      "include_colab_link": true
    },
    "kernelspec": {
      "name": "python3",
      "display_name": "Python 3"
    },
    "language_info": {
      "name": "python"
    }
  },
  "cells": [
    {
      "cell_type": "markdown",
      "metadata": {
        "id": "view-in-github",
        "colab_type": "text"
      },
      "source": [
        "<a href=\"https://colab.research.google.com/github/choiboy92/ImperialML/blob/main/Tutorial%204/Tutorial4.ipynb\" target=\"_parent\"><img src=\"https://colab.research.google.com/assets/colab-badge.svg\" alt=\"Open In Colab\"/></a>"
      ]
    },
    {
      "cell_type": "markdown",
      "metadata": {
        "id": "FsmdNZ4rOXS-"
      },
      "source": [
        "## Scaling"
      ]
    },
    {
      "cell_type": "code",
      "metadata": {
        "id": "__RPK-ueO2qS",
        "colab": {
          "base_uri": "https://localhost:8080/",
          "height": 265
        },
        "outputId": "32e99039-305d-480f-9b7b-9c5ad1ea5812"
      },
      "source": [
        "import numpy as np\n",
        "import matplotlib.pyplot as plt\n",
        "import pandas\n",
        "\n",
        "df = pandas.read_csv('http://pogo.software/me4ml/tensile_strength.csv')\n",
        "t = np.array(df['Temperature (deg C)'][:])\n",
        "s = np.array(df['Ultimate tensile strength (Pa)'][:])\n",
        "t_mean = np.mean(t)\n",
        "s_mean = np.mean(s)\n",
        "t_std = np.std(t)\n",
        "s_std = np.std(s)\n",
        "\n",
        "t_scale = (t-t_mean)/t_std\n",
        "s_scale = (s-s_mean)/s_std\n",
        "\n",
        "fig, ax = plt.subplots()\n",
        "plt.hist(s_scale)\n",
        "#plt.hist(s)\n",
        "plt.show()\n",
        "\n"
      ],
      "execution_count": 1,
      "outputs": [
        {
          "output_type": "display_data",
          "data": {
            "image/png": "[encoded data removed]",
            "text/plain": [
              "<Figure size 432x288 with 1 Axes>"
            ]
          },
          "metadata": {
            "needs_background": "light"
          }
        }
      ]
    },
    {
      "cell_type": "code",
      "metadata": {
        "id": "eUjAUa3YqgLP"
      },
      "source": [
        "scArray = np.array([[t_mean, s_mean], [t_std, s_std]])\n",
        "np.savetxt('scaleParams.txt', scArray)\n",
        "\n",
        "# download it from the Colab interface\n",
        "#from google.colab import files\n",
        "#files.download('scaleParams.txt')\n",
        "\n",
        "loadedScales = np.loadtxt('scaleParams.txt')\n",
        "#print(loadedScales)"
      ],
      "execution_count": 2,
      "outputs": []
    },
    {
      "cell_type": "markdown",
      "metadata": {
        "id": "OGaeBxpCOcM6"
      },
      "source": [
        "## Plotting linear discriminant functions"
      ]
    },
    {
      "cell_type": "code",
      "metadata": {
        "id": "Ow5Oj_q_q1rQ",
        "colab": {
          "base_uri": "https://localhost:8080/",
          "height": 269
        },
        "outputId": "873cbc38-051f-4c23-f203-7b994497f68a"
      },
      "source": [
        "import numpy as np\n",
        "import matplotlib.pyplot as plt\n",
        "fig, ax = plt.subplots()\n",
        "\n",
        "#weight = np.array([-1,-3]).T\n",
        "weight = np.array([[-1],[-3]]).T\n",
        "w0 = 1\n",
        "\n",
        "x1line = np.linspace(0,1, 100)\n",
        "x2line = np.linspace(0,1, 100)\n",
        "\n",
        "x1grid, x2grid = np.meshgrid(x1line, x2line)\n",
        "\n",
        "# produce an grid array with all grid values\n",
        "xgrid = np.array([x1grid, x2grid]).reshape([2,100*100])\n",
        "\n",
        "#print(weight.shape)\n",
        "#print(xgrid.shape)\n",
        "g = np.matmul(weight, xgrid) + w0\n",
        "\n",
        "# how to calculate decision boundary line?\n",
        "\n",
        "# plot contour\n",
        "plt.contourf(x1line, x2line, g.reshape([100,100]))\n",
        "plt.colorbar()\n",
        "plt.xlim(0,1)\n",
        "plt.ylim(0,1)\n",
        "plt.show()"
      ],
      "execution_count": 8,
      "outputs": [
        {
          "output_type": "display_data",
          "data": {
            "image/png": "[encoded data removed]",
            "text/plain": [
              "<Figure size 432x288 with 2 Axes>"
            ]
          },
          "metadata": {
            "needs_background": "light"
          }
        }
      ]
    },
    {
      "cell_type": "markdown",
      "metadata": {
        "id": "kmZDsfEcOf6l"
      },
      "source": [
        "## Plotting classification areas"
      ]
    },
    {
      "cell_type": "code",
      "metadata": {
        "id": "yuoTNcq0Carg",
        "outputId": "3f3b877a-008c-4ea4-fdfb-eb74017328da",
        "colab": {
          "base_uri": "https://localhost:8080/",
          "height": 269
        }
      },
      "source": [
        "import numpy as np\n",
        "import matplotlib.pyplot as plt\n",
        "fig, ax = plt.subplots()\n",
        "\n",
        "#weight terms each with shape (1, 3)\n",
        "a1 = np.array([[1.3], [-1], [-3]]).T\n",
        "a2 = np.array([[-2], [1], [2]]).T\n",
        "a3 = np.array([[0.3], [0.1], [-0.1]]).T\n",
        "a4 = np.array([[0], [-1], [1]]).T\n",
        "a5 = np.array([[-0.2], [1.5], [-1]]).T\n",
        "\n",
        "npx = 50\n",
        "npy = 50\n",
        "x1line = np.linspace(0, 1, npx)\n",
        "x2line = np.linspace(0, 1, npy)\n",
        "\n",
        "x1grid, x2grid = np.meshgrid(x1line, x2line)\n",
        "\n",
        "# produce an grid array with all grid values\n",
        "xgrid = np.array([x1grid, x2grid]).reshape([npx*npy, 2])\n",
        "\n",
        "#Ygrid is defined as the same as Xgrid, except it has 1\n",
        "#at the beginning − this therefore adds a column of ones to the left\n",
        "Ygrid = np.concatenate([np.ones([npx * npy,1]), xgrid],axis=1)\n",
        "\n",
        "#calculate each of the five functions as before\n",
        "g1 = np.matmul(a1, Ygrid.T)\n",
        "g2 = np.matmul(a2, Ygrid.T)\n",
        "g3 = np.matmul(a3, Ygrid.T)\n",
        "g4 = np.matmul(a4, Ygrid.T)\n",
        "g5 = np.matmul(a5, Ygrid.T)\n",
        "\n",
        "#combine all five functions together\n",
        "gconc = np.concatenate([g1, g2, g3, g4, g5])\n",
        "\n",
        "#find which of the columns is the largest\n",
        "omega = np.argmax(gconc , axis=0)\n",
        "\n",
        "#put back onto 2D grid so it can easily be plotted\n",
        "omega = np.reshape(omega, [npx, npy])\n",
        "\n",
        "# plot contour\n",
        "plt.contourf(x1line, x2line, omega)\n",
        "plt.colorbar()\n",
        "plt.xlim(0,1)\n",
        "plt.ylim(0,1)\n",
        "plt.show()"
      ],
      "execution_count": 49,
      "outputs": [
        {
          "output_type": "display_data",
          "data": {
            "image/png": "[encoded data removed]",
            "text/plain": [
              "<Figure size 432x288 with 2 Axes>"
            ]
          },
          "metadata": {
            "needs_background": "light"
          }
        }
      ]
    },
    {
      "cell_type": "code",
      "metadata": {
        "id": "mpe80hjOt5B8",
        "colab": {
          "base_uri": "https://localhost:8080/",
          "height": 320
        },
        "outputId": "1d9512fa-8889-4f05-80ca-1cf8d608a2ce"
      },
      "source": [
        "# Higher Order Functions\n",
        "\n",
        "import numpy as np\n",
        "import matplotlib.pyplot as plt\n",
        "fig, ax = plt.subplots()\n",
        "\n",
        "#weight terms each with shape (1, 4)\n",
        "a1 = np.array([[1.3], [-1], [-3], [-10]]).T\n",
        "a2 = np.array([[-1], [1.5], [3], [-1]]).T\n",
        "a3 = np.array([[0.4], [-0.1], [-0.1], [3]]).T\n",
        "a4 = np.array([[0.5], [-1], [1], [-0.1]]).T\n",
        "a5 = np.array([[-0.2], [1.5], [-1], [0.4]]).T\n",
        "\n",
        "npx = 100\n",
        "npy = 100\n",
        "x1line = np.linspace(0, 1, npx)\n",
        "x2line = np.linspace(0, 1, npy)\n",
        "\n",
        "x1grid, x2grid = np.meshgrid(x1line, x2line)\n",
        "\n",
        "# produce an grid array with all grid values\n",
        "xgrid = np.array([x1grid, x2grid]).reshape([npx*npy, 2])\n",
        "\n",
        "#calculate the x1*x2 (higher order) grid\n",
        "x1x2 = x1grid * x2grid\n",
        "\n",
        "#Ygrid is defined as the same as Xgrid, except it has 1\n",
        "#at the beginning − this therefore adds a column of ones to the left\n",
        "#at end, add the x1x2 column\n",
        "Ygrid = np.concatenate([np.ones([npx * npy,1]), xgrid, x1x2.reshape([npx*npy, 1])], axis=1)\n",
        "\n",
        "#calculate each of the five functions as before\n",
        "g1 = np.matmul(a1, Ygrid.T)\n",
        "g2 = np.matmul(a2, Ygrid.T)\n",
        "g3 = np.matmul(a3, Ygrid.T)\n",
        "g4 = np.matmul(a4, Ygrid.T)\n",
        "g5 = np.matmul(a5, Ygrid.T)\n",
        "\n",
        "#combine all five functions together\n",
        "gconc = np.concatenate([g1, g2, g3, g4, g5])\n",
        "\n",
        "#find which of the columns is the largest\n",
        "omega = np.argmax(gconc , axis=0)\n",
        "\n",
        "#put back onto 2D grid so it can easily be plotted\n",
        "omega = np.reshape(omega, [npx, npy])\n",
        "\n",
        "# plot contour\n",
        "plt.contourf(x1line, x2line, omega)\n",
        "plt.colorbar()\n",
        "plt.xlim(0,1)\n",
        "plt.ylim(0,1)\n",
        "plt.show()"
      ],
      "execution_count": 48,
      "outputs": [
        {
          "output_type": "stream",
          "name": "stdout",
          "text": [
            "(10000, 4)\n",
            "(100, 100)\n",
            "(10000, 4)\n"
          ]
        },
        {
          "output_type": "display_data",
          "data": {
            "image/png": "[encoded data removed]",
            "text/plain": [
              "<Figure size 432x288 with 2 Axes>"
            ]
          },
          "metadata": {
            "needs_background": "light"
          }
        }
      ]
    }
  ]
}