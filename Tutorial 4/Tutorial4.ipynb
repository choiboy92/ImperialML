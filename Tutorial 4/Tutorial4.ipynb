{
  "nbformat": 4,
  "nbformat_minor": 0,
  "metadata": {
    "colab": {
      "name": "Tutorial4.ipynb",
      "provenance": [],
      "authorship_tag": "ABX9TyMnrnHTNuiUlLoTjoXg2bhi",
      "include_colab_link": true
    },
    "kernelspec": {
      "name": "python3",
      "display_name": "Python 3"
    },
    "language_info": {
      "name": "python"
    }
  },
  "cells": [
    {
      "cell_type": "markdown",
      "metadata": {
        "id": "view-in-github",
        "colab_type": "text"
      },
      "source": [
        "<a href=\"https://colab.research.google.com/github/choiboy92/ImperialML/blob/main/Tutorial%204/Tutorial4.ipynb\" target=\"_parent\"><img src=\"https://colab.research.google.com/assets/colab-badge.svg\" alt=\"Open In Colab\"/></a>"
      ]
    },
    {
      "cell_type": "code",
      "metadata": {
        "id": "__RPK-ueO2qS",
        "outputId": "9961c2a4-1d51-4ea7-ff2f-f76ea1a14a8d",
        "colab": {
          "base_uri": "https://localhost:8080/",
          "height": 278
        }
      },
      "source": [
        "import numpy as np\n",
        "import matplotlib.pyplot as plt\n",
        "import pandas\n",
        "\n",
        "df = pandas.read_csv('http://pogo.software/me4ml/tensile_strength.csv')\n",
        "t = np.array(df['Temperature (deg C)'][:])\n",
        "s = np.array(df['Ultimate tensile strength (Pa)'][:])\n",
        "t_mean = np.mean(t)\n",
        "s_mean = np.mean(s)\n",
        "t_std = np.std(t)\n",
        "s_std = np.std(s)\n",
        "\n",
        "t_scale = (t-t_mean)/t_std\n",
        "s_scale = (s-s_mean)/s_std\n",
        "\n",
        "fig, ax = plt.subplots()\n",
        "plt.hist(s_scale)\n",
        "#plt.hist(s)\n",
        "plt.show()\n",
        "\n"
      ],
      "execution_count": 2,
      "outputs": [
        {
          "output_type": "display_data",
          "data": {
            "image/png": "[encoded data removed]",
            "text/plain": [
              "<Figure size 432x288 with 1 Axes>"
            ]
          },
          "metadata": {
            "needs_background": "light"
          }
        }
      ]
    },
    {
      "cell_type": "code",
      "metadata": {
        "id": "eUjAUa3YqgLP"
      },
      "source": [
        "scArray = np.array([[t_mean, s_mean], [t_std, s_std]])\n",
        "np.savetxt('scaleParams.txt', scArray)\n",
        "\n",
        "# download it from the Colab interface\n",
        "#from google.colab import files\n",
        "#files.download('scaleParams.txt')\n",
        "\n",
        "loadedScales = np.loadtxt('scaleParams.txt')\n",
        "#print(loadedScales)"
      ],
      "execution_count": 6,
      "outputs": []
    },
    {
      "cell_type": "code",
      "metadata": {
        "id": "Ow5Oj_q_q1rQ",
        "outputId": "ddbf9d27-6983-4c63-8c08-2365f8325c5c",
        "colab": {
          "base_uri": "https://localhost:8080/",
          "height": 269
        }
      },
      "source": [
        "import numpy as np\n",
        "import matplotlib.pyplot as plt\n",
        "fig, ax = plt.subplots()\n",
        "\n",
        "#weight = np.array([-1,-3]).T\n",
        "weight = np.array([[-1],[-3]]).T\n",
        "w0 = 1\n",
        "\n",
        "x1line = np.linspace(0,1, 100)\n",
        "x2line = np.linspace(0,1, 100)\n",
        "\n",
        "x1grid, x2grid = np.meshgrid(x1line, x2line)\n",
        "\n",
        "# produce an grid array with all grid values\n",
        "xgrid = np.array([x1grid, x2grid]).reshape([2,100*100])\n",
        "\n",
        "#print(weight.shape)\n",
        "#print(xgrid.shape)\n",
        "g = np.matmul(weight, xgrid) + w0\n",
        "\n",
        "# how to calculate decision boundary line?\n",
        "\n",
        "plt.contourf(x1line, x2line, g.reshape([100,100]))\n",
        "plt.colorbar()\n",
        "plt.xlim(0,1)\n",
        "plt.ylim(0,1)\n",
        "plt.show()\n",
        "\n"
      ],
      "execution_count": 43,
      "outputs": [
        {
          "output_type": "display_data",
          "data": {
            "image/png": "[encoded data removed]",
            "text/plain": [
              "<Figure size 432x288 with 2 Axes>"
            ]
          },
          "metadata": {
            "needs_background": "light"
          }
        }
      ]
    },
    {
      "cell_type": "code",
      "metadata": {
        "id": "mpe80hjOt5B8",
        "outputId": "73286204-ea5a-4865-aed5-ec5ba3a2044b",
        "colab": {
          "base_uri": "https://localhost:8080/"
        }
      },
      "source": [
        "weight = np.array([[-1],[-3]])\n",
        "print(weight)\n",
        "print(weight.shape)"
      ],
      "execution_count": 27,
      "outputs": [
        {
          "output_type": "stream",
          "name": "stdout",
          "text": [
            "[[-1 -3]]\n",
            "(1, 2)\n"
          ]
        }
      ]
    }
  ]
}