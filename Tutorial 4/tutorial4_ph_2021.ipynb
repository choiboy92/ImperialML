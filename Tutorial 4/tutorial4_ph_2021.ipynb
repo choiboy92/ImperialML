{
  "nbformat": 4,
  "nbformat_minor": 0,
  "metadata": {
    "colab": {
      "name": "tutorial4_ph_2021.ipynb",
      "provenance": [],
      "collapsed_sections": []
    },
    "kernelspec": {
      "name": "python3",
      "display_name": "Python 3"
    }
  },
  "cells": [
    {
      "cell_type": "code",
      "metadata": {
        "id": "uSbUE1xkjI7l",
        "colab": {
          "base_uri": "https://localhost:8080/",
          "height": 513
        },
        "outputId": "7c444f79-9ca4-4695-c38d-eed0918d36b4"
      },
      "source": [
        "import pandas\n",
        "import numpy as np\n",
        "\n",
        "import matplotlib.pyplot as plt\n",
        "\n",
        "df = pandas.read_csv('http://pogo.software/me4ml/tensile_strength.csv')\n",
        "\n",
        "t = np.array(df['Temperature (deg C)'][:]) \n",
        "s = np.array(df['Ultimate tensile strength (Pa)'][:])\n",
        "\n",
        "t_mean = np.mean(t)\n",
        "t_std = np.std(t)\n",
        "\n",
        "s_mean = np.mean(s)\n",
        "s_std = np.std(s)\n",
        "\n",
        "t_scale = (t-t_mean)/t_std\n",
        "s_scale = (s-s_mean)/s_std\n",
        "\n",
        "fig, ax = plt.subplots() \n",
        "plt.hist(s_scale) \n",
        "plt.show()\n",
        "\n",
        "fig, ax = plt.subplots() \n",
        "plt.hist(t_scale) \n",
        "plt.show()\n"
      ],
      "execution_count": null,
      "outputs": [
        {
          "output_type": "display_data",
          "data": {
            "image/png": "[encoded data removed]",
            "text/plain": [
              "<Figure size 432x288 with 1 Axes>"
            ]
          },
          "metadata": {
            "needs_background": "light"
          }
        },
        {
          "output_type": "display_data",
          "data": {
            "image/png": "[encoded data removed]",
            "text/plain": [
              "<Figure size 432x288 with 1 Axes>"
            ]
          },
          "metadata": {
            "needs_background": "light"
          }
        }
      ]
    },
    {
      "cell_type": "code",
      "metadata": {
        "id": "YH2s8R61N61V",
        "colab": {
          "base_uri": "https://localhost:8080/",
          "height": 278
        },
        "outputId": "6df7f6bd-9f85-4fb5-9af4-181fced6e319"
      },
      "source": [
        "fig, ax = plt.subplots() \n",
        "plt.hist(s) \n",
        "plt.show()"
      ],
      "execution_count": null,
      "outputs": [
        {
          "output_type": "display_data",
          "data": {
            "image/png": "[encoded data removed]",
            "text/plain": [
              "<Figure size 432x288 with 1 Axes>"
            ]
          },
          "metadata": {
            "needs_background": "light"
          }
        }
      ]
    },
    {
      "cell_type": "code",
      "metadata": {
        "id": "dJbdJ4QgOApT",
        "colab": {
          "base_uri": "https://localhost:8080/",
          "height": 17
        },
        "outputId": "e50a2446-f220-4ca6-eea0-0b8d4dbdbaa6"
      },
      "source": [
        "scArray = np.array([[t_mean, s_mean],[t_std, s_std]]) \n",
        "np.savetxt('scaleParams.txt',scArray)\n",
        "\n",
        "#download it from the Colab interface:\n",
        "from google.colab import files \n",
        "files.download('scaleParams.txt')"
      ],
      "execution_count": null,
      "outputs": [
        {
          "output_type": "display_data",
          "data": {
            "application/javascript": [
              "\n",
              "    async function download(id, filename, size) {\n",
              "      if (!google.colab.kernel.accessAllowed) {\n",
              "        return;\n",
              "      }\n",
              "      const div = document.createElement('div');\n",
              "      const label = document.createElement('label');\n",
              "      label.textContent = `Downloading \"${filename}\": `;\n",
              "      div.appendChild(label);\n",
              "      const progress = document.createElement('progress');\n",
              "      progress.max = size;\n",
              "      div.appendChild(progress);\n",
              "      document.body.appendChild(div);\n",
              "\n",
              "      const buffers = [];\n",
              "      let downloaded = 0;\n",
              "\n",
              "      const channel = await google.colab.kernel.comms.open(id);\n",
              "      // Send a message to notify the kernel that we're ready.\n",
              "      channel.send({})\n",
              "\n",
              "      for await (const message of channel.messages) {\n",
              "        // Send a message to notify the kernel that we're ready.\n",
              "        channel.send({})\n",
              "        if (message.buffers) {\n",
              "          for (const buffer of message.buffers) {\n",
              "            buffers.push(buffer);\n",
              "            downloaded += buffer.byteLength;\n",
              "            progress.value = downloaded;\n",
              "          }\n",
              "        }\n",
              "      }\n",
              "      const blob = new Blob(buffers, {type: 'application/binary'});\n",
              "      const a = document.createElement('a');\n",
              "      a.href = window.URL.createObjectURL(blob);\n",
              "      a.download = filename;\n",
              "      div.appendChild(a);\n",
              "      a.click();\n",
              "      div.remove();\n",
              "    }\n",
              "  "
            ],
            "text/plain": [
              "<IPython.core.display.Javascript object>"
            ]
          },
          "metadata": {}
        },
        {
          "output_type": "display_data",
          "data": {
            "application/javascript": [
              "download(\"download_5f22a533-91bc-46f1-9f6b-1c98d8aff5de\", \"scaleParams.txt\", 100)"
            ],
            "text/plain": [
              "<IPython.core.display.Javascript object>"
            ]
          },
          "metadata": {}
        }
      ]
    },
    {
      "cell_type": "code",
      "metadata": {
        "id": "sa4tKb87QaJH",
        "colab": {
          "base_uri": "https://localhost:8080/"
        },
        "outputId": "f15ae58d-efda-47d6-b850-7467826c1add"
      },
      "source": [
        "loadedScales = np.loadtxt('scaleParams.txt')\n",
        "print(scArray)\n",
        "print(loadedScales)"
      ],
      "execution_count": null,
      "outputs": [
        {
          "output_type": "stream",
          "name": "stdout",
          "text": [
            "[[2.00656579e+02 2.51960971e+08]\n",
            " [9.80022963e+00 2.92063848e+07]]\n",
            "[[2.00656579e+02 2.51960971e+08]\n",
            " [9.80022963e+00 2.92063848e+07]]\n"
          ]
        }
      ]
    },
    {
      "cell_type": "code",
      "metadata": {
        "id": "_HRdWVriRhTo",
        "colab": {
          "base_uri": "https://localhost:8080/",
          "height": 287
        },
        "outputId": "2d35ed05-2b58-4a49-ad49-c289ba9a3b92"
      },
      "source": [
        "npx = 200\n",
        "npy = 200\n",
        "\n",
        "x1line = np.linspace(0, 1, npx) \n",
        "x2line = np.linspace(0, 1, npy)\n",
        "\n",
        "x1grid, x2grid = np.meshgrid(x1line, x2line) \n",
        "\n",
        "Xgrid = np.array([x1grid, x2grid]).reshape([2,npx*npy]).T\n",
        "\n",
        "w = np.array([-1, -3]).reshape([1,2])\n",
        "w0 = 1\n",
        "g = np.matmul(w, Xgrid.T) + w0\n",
        "\n",
        "g = np.reshape(g, [npx, npy])\n",
        "\n",
        "yDiscr = (-x1line + 1) / 3\n",
        "\n",
        "\n",
        "fig, ax = plt.subplots()\n",
        "plt.contourf(x1line, x2line, g)\n",
        "plt.plot(x1line, yDiscr)\n",
        "plt.colorbar()\n",
        "plt.xlim(0, 1)\n",
        "plt.ylim(0, 1)"
      ],
      "execution_count": null,
      "outputs": [
        {
          "output_type": "execute_result",
          "data": {
            "text/plain": [
              "(0.0, 1.0)"
            ]
          },
          "metadata": {},
          "execution_count": 11
        },
        {
          "output_type": "display_data",
          "data": {
            "image/png": "[encoded data removed]",
            "text/plain": [
              "<Figure size 432x288 with 2 Axes>"
            ]
          },
          "metadata": {
            "needs_background": "light"
          }
        }
      ]
    },
    {
      "cell_type": "code",
      "metadata": {
        "id": "FdmZbr0XVGkU",
        "colab": {
          "base_uri": "https://localhost:8080/",
          "height": 342
        },
        "outputId": "73a1794f-c40a-4615-f40f-950b5bb90da7"
      },
      "source": [
        "a1 = np.array([[1.3, -1, -3]])\n",
        "a2 = np.array([[-2, 1, 2]])\n",
        "a3 = np.array([[0.3, 0.1, -0.1]])\n",
        "a4 = np.array([[0, -1, 1]])\n",
        "a5 = np.array([[-0.2, 1.5, -1]])\n",
        "\n",
        "\n",
        "#Ygrid is defined as the same as Xgrid, except it has 1 \n",
        "#at the beginning - this therefore adds a column of ones to the left\n",
        "Ygrid = np.concatenate([np.ones([npx * npy,1]), Xgrid],axis=1) \n",
        "\n",
        "#calculate each of the five functions as before\n",
        "g1 = np.matmul(a1, Ygrid.T) \n",
        "g2 = np.matmul(a2, Ygrid.T) \n",
        "g3 = np.matmul(a3, Ygrid.T) \n",
        "g4 = np.matmul(a4, Ygrid.T) \n",
        "g5 = np.matmul(a5, Ygrid.T)\n",
        "\n",
        "\n",
        "#combine all five functions together\n",
        "gconc = np.concatenate([g1, g2, g3, g4, g5])\n",
        "\n",
        "\n",
        "#find where the maximum value lies\n",
        "omega=np.argmax(gconc,axis=0)\n",
        "\n",
        "#result = numpy.where(arr == numpy.amax(arr))\n",
        "#put back onto 2D grid so it can easily be plotted\n",
        "omega = np.reshape(omega, [npx, npy]) \n",
        "\n",
        "fig, ax = plt.subplots()\n",
        "plt.contourf(x1line, x2line, omega)"
      ],
      "execution_count": null,
      "outputs": [
        {
          "output_type": "stream",
          "name": "stdout",
          "text": [
            "(1, 3)\n",
            "(1, 40000)\n",
            "(5, 40000)\n"
          ]
        },
        {
          "output_type": "execute_result",
          "data": {
            "text/plain": [
              "<matplotlib.contour.QuadContourSet at 0x7fe40ab9e650>"
            ]
          },
          "metadata": {},
          "execution_count": 14
        },
        {
          "output_type": "display_data",
          "data": {
            "image/png": "[encoded data removed]",
            "text/plain": [
              "<Figure size 432x288 with 1 Axes>"
            ]
          },
          "metadata": {
            "needs_background": "light"
          }
        }
      ]
    },
    {
      "cell_type": "code",
      "metadata": {
        "id": "s8hEXrC6k74v",
        "colab": {
          "base_uri": "https://localhost:8080/",
          "height": 306
        },
        "outputId": "adb6f5fa-2276-4cea-a303-80525e1f9d50"
      },
      "source": [
        "a1 = np.array([[1.3, -1, -3, -10]])\n",
        "a2 = np.array([[-1,1.5,3,-1]])\n",
        "a3 = np.array([[0.4, -0.1, -0.1, 3]])\n",
        "a4 = np.array([[0.5, -1, 1, -0.1]])\n",
        "a5 = np.array([[-0.2, 1.5, -1, 0.4]])\n",
        "\n",
        "\n",
        "#Ygrid is defined as the same as Xgrid, except it has 1 \n",
        "#at the beginning - this therefore adds a column of ones to the left\n",
        "Ygrid = np.concatenate([np.ones([npx * npy,1]), Xgrid, np.array([Xgrid[:,0]*Xgrid[:,1]]).T],axis=1) \n",
        "\n",
        "#calculate each of the five functions as before\n",
        "g1 = np.matmul(a1, Ygrid.T) \n",
        "g2 = np.matmul(a2, Ygrid.T) \n",
        "g3 = np.matmul(a3, Ygrid.T) \n",
        "g4 = np.matmul(a4, Ygrid.T) \n",
        "g5 = np.matmul(a5, Ygrid.T)\n",
        "#combine all five functions together\n",
        "gconc = np.concatenate([g1, g2, g3, g4, g5])\n",
        "\n",
        "#find which of the columns is the largest\n",
        "omega=np.argmax(gconc,axis=0)\n",
        "\n",
        "omega = np.reshape(omega, [npx, npy]) \n",
        "\n",
        "fig, ax = plt.subplots()\n",
        "plt.contourf(x1line, x2line, omega)"
      ],
      "execution_count": null,
      "outputs": [
        {
          "output_type": "stream",
          "name": "stdout",
          "text": [
            "(1, 4)\n"
          ]
        },
        {
          "output_type": "execute_result",
          "data": {
            "text/plain": [
              "<matplotlib.contour.QuadContourSet at 0x7fe4132695d0>"
            ]
          },
          "metadata": {},
          "execution_count": 8
        },
        {
          "output_type": "display_data",
          "data": {
            "image/png": "[encoded data removed]",
            "text/plain": [
              "<Figure size 432x288 with 1 Axes>"
            ]
          },
          "metadata": {
            "needs_background": "light"
          }
        }
      ]
    }
  ]
}