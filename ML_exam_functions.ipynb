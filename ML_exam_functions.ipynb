{
  "nbformat": 4,
  "nbformat_minor": 0,
  "metadata": {
    "colab": {
      "name": "ML_exam_functions.ipynb",
      "provenance": [],
      "authorship_tag": "ABX9TyPD4bofUHT0sbGOW6Ikigif",
      "include_colab_link": true
    },
    "kernelspec": {
      "name": "python3",
      "display_name": "Python 3"
    },
    "language_info": {
      "name": "python"
    }
  },
  "cells": [
    {
      "cell_type": "markdown",
      "metadata": {
        "id": "view-in-github",
        "colab_type": "text"
      },
      "source": [
        "<a href=\"https://colab.research.google.com/github/choiboy92/ImperialML/blob/main/ML_exam_functions.ipynb\" target=\"_parent\"><img src=\"https://colab.research.google.com/assets/colab-badge.svg\" alt=\"Open In Colab\"/></a>"
      ]
    },
    {
      "cell_type": "code",
      "execution_count": 34,
      "metadata": {
        "id": "J8LT5HOu2pW3"
      },
      "outputs": [],
      "source": [
        "# import libraries\n",
        "import numpy as np\n",
        "import matplotlib.pyplot as plt\n",
        "import pandas as pd\n",
        "\n",
        "#This function may be useful to define the sampling grid for this question\n",
        "def gen_sample_grid(npx=200, npy=200, limit=1):\n",
        "  x1line = np.linspace(-limit, limit, npx)\n",
        "  x2line = np.linspace(-limit, limit, npy)\n",
        "  x1grid, x2grid = np.meshgrid(x1line, x2line)\n",
        "  Xgrid = np.array([x1grid, x2grid]).reshape([2,npx*npy]).T\n",
        "  return Xgrid,x1line,x2line\n",
        "\n",
        "Xgrid, x1line, x2line = gen_sample_grid(npx=200, npy=200, limit=1)\n",
        "\n",
        "# np.reshape(num rows, num columns)\n",
        "# np.concatenate((a1, a2), axis)    axis=0 (along rows), axis =-1 (last axis, in 2d this is across)\n",
        "# emptyarray = np.append(emptyarray, new_value)"
      ]
    },
    {
      "cell_type": "code",
      "source": [
        "# COVARIANCE\n",
        "# covariance from Training Dataset\n",
        "\n",
        "# Given equations\n",
        "# covariance matrix function from angles\n",
        "def get_cov(sdx=1., sdy=1., rotangdeg=0.):\n",
        "    covar = np.array([[sdx, 0], [0, sdy]])\n",
        "    rot_ang = rotangdeg / 360 * 2 * np.pi\n",
        "    rot_mat = np.array([[np.cos(rotangdeg), -np.sin(rotangdeg)], [np.sin(rotangdeg), np.cos(rotangdeg)]])\n",
        "\n",
        "    covar = np.matmul(np.matmul(rot_mat, covar), rot_mat.T)\n",
        "    return covar\n",
        "\n",
        "# X needs to be in this format:\n",
        "# column indicates parameter\n",
        "X = np.array([[2,3],    # 1st sample\n",
        "              [2,2],    # 2nd sample\n",
        "              [1,1]])   # 3rd sample, etc.\n",
        "\n",
        "def get_cov_data(X):\n",
        "  mean = np.mean(X, axis=0)\n",
        "  A = X - mean\n",
        "  C = np.matmul(A.T, A)  # get Covariance matrix\n",
        "  return C\n",
        "\n",
        "C = get_cov_data(X)\n",
        "print(C)"
      ],
      "metadata": {
        "colab": {
          "base_uri": "https://localhost:8080/"
        },
        "id": "d_2zg60d3VSm",
        "outputId": "a5185b4e-2c74-45d4-d284-5a1da8168909"
      },
      "execution_count": 27,
      "outputs": [
        {
          "output_type": "stream",
          "name": "stdout",
          "text": [
            "[[0.66666667 1.        ]\n",
            " [1.         2.        ]]\n"
          ]
        }
      ]
    },
    {
      "cell_type": "code",
      "source": [
        "# BAYES & MAXIMUM LIKELIHOOD\n",
        "\n",
        "# define a function to generate the Gaussian shape (normal distribution)\n",
        "def Gaussian(x, mu, sig):\n",
        "  out = (1/(sig*np.sqrt(2*np.pi)))*np.exp(-0.5*((x-mu)/sig)**2)\n",
        "  return out\n",
        "\n",
        "#load in the data\n",
        "df = pd.read_csv(\"http://pogo.software/me4ml/womue/s1.csv\")\n",
        "x = np.array(df['x'])\n",
        "y = np.array(df['y'])\n",
        "X = np.arange(150,281,1)\n",
        "\n",
        "#Continue here...\n",
        "nb_mean = np.mean(x[y==0])\n",
        "nb_std = np.std(x[y==0])\n",
        "nb_likelihood = Gaussian(X, nb_mean, nb_std)\n",
        "nb_prior = 0.9\n",
        "b_mean = np.mean(x[y==1])\n",
        "b_std = np.std(x[y==1])\n",
        "b_likelihood = Gaussian(X, b_mean, b_std)\n",
        "b_prior = 0.1\n",
        "\n",
        "p_x = (b_likelihood*b_prior) + (nb_likelihood*nb_prior)\n",
        "b_posterior = (b_likelihood*b_prior)/p_x\n",
        "plt.plot(X, b_posterior)\n",
        "plt.show()\n",
        "print(\"Posterior of breaking at 240:\",b_posterior[X==240][0])"
      ],
      "metadata": {
        "colab": {
          "base_uri": "https://localhost:8080/",
          "height": 282
        },
        "id": "pZye4keN9ovw",
        "outputId": "c09f834a-82e9-4163-8e71-0605249a0683"
      },
      "execution_count": 35,
      "outputs": [
        {
          "output_type": "display_data",
          "data": {
            "image/png": "[encoded data removed]",
            "text/plain": [
              "<Figure size 432x288 with 1 Axes>"
            ]
          },
          "metadata": {
            "needs_background": "light"
          }
        },
        {
          "output_type": "stream",
          "name": "stdout",
          "text": [
            "Posterior of breaking at 240: 0.13311052107637888\n"
          ]
        }
      ]
    },
    {
      "cell_type": "code",
      "source": [
        "# ERROR METRICS\n",
        "\n",
        "def l1_error(grid, point):\n",
        "  abs = np.abs(grid - point)\n",
        "  out = np.sum(abs, -1)\n",
        "  return out\n",
        "\n",
        "\n",
        "def linf_error(grid, point):\n",
        "  abs = np.abs(grid - point)\n",
        "  out = np.amax(abs, -1)\n",
        "  return out\n",
        "\n",
        "def lp_error(grid, point, p):\n",
        "  abs = np.abs(grid - point)**p\n",
        "  out = np.sum(abs, -1)**(1/p)\n",
        "  return out\n"
      ],
      "metadata": {
        "id": "W_pJvIru20w3"
      },
      "execution_count": null,
      "outputs": []
    },
    {
      "cell_type": "code",
      "source": [
        "# REGRESSION\n",
        "# Linear Regression\n",
        "fig, ax = plt.subplots()\n",
        "\n",
        "df = pandas.read_csv('http://pogo.software/me4ml/xray.csv')\n",
        "x = np.array(df['Distance (mm)'][:])\n",
        "y = np.array(df['Total absorption'][:])\n",
        "\n",
        "# n.b. len(x) = 1000\n",
        "A = np.array([[np.sum(x), np.sum(x**2)],\n",
        "              [len(x), np.sum(x)]])\n",
        "\n",
        "b = np.array([[np.dot(x,y)],[np.sum(y)]])\n",
        "\n",
        "beta = np.linalg.solve(A, b)\n",
        "b1 = beta[0][0]   # the y intercept\n",
        "b2 = beta[1][0]   # the gradient\n",
        "\n",
        "xval = np.linspace(0,6, 200)\n",
        "linRegression = b1 + b2*xval\n",
        "plt.plot(xval,linRegression, color=\"black\")\n",
        "ax.scatter(x,y,color=\"blue\")\n",
        "plt.show()\n",
        "\n",
        "# Higher order regression\n",
        "fig, ax = plt.subplots()\n",
        "\n",
        "# n.b. len(x) = 1000\n",
        "A = np.array([[np.sum(x**2), np.sum(x**3), np.sum(x**4)],\n",
        "              [np.sum(x), np.sum(x**2), np.sum(x**3)],\n",
        "              [len(x), np.sum(x), np.sum(x**2)]])\n",
        "\n",
        "b = np.array([[np.dot(x**2,y)], [np.dot(x,y)], [np.sum(y)]])\n",
        "\n",
        "beta = np.linalg.solve(A, b)\n",
        "b1 = beta[0][0]   # the y intercept\n",
        "b2 = beta[1][0]   # x coefficient\n",
        "b3 = beta[2][0]   # x^2 coefficient\n",
        "xval = np.linspace(0,6, 200)\n",
        "higherRegression = b1 + b2*xval + (b3*(xval**2))\n",
        "plt.plot(xval,linRegression, color=\"black\")\n",
        "plt.plot(xval, higherRegression, color=\"red\")\n",
        "ax.scatter(x,y,color=\"blue\")\n",
        "plt.show()\n",
        "\n",
        "# Ridge Regularisation\n",
        "# new A matrix \n",
        "A_reg = np.array([[np.sum(x),      2*lam + np.sum(x**2)],\n",
        "                  [2*lam + len(x), np.sum(x)]])"
      ],
      "metadata": {
        "id": "Am0mK-2y-SsW"
      },
      "execution_count": null,
      "outputs": []
    },
    {
      "cell_type": "code",
      "source": [
        "# GRADIENT DESCENT\n",
        "# Analytical error derivatives (2 params)\n",
        "\n",
        "# Alternating Descent\n",
        "\n"
      ],
      "metadata": {
        "id": "Ej9DgKj_3APh",
        "colab": {
          "base_uri": "https://localhost:8080/"
        },
        "outputId": "99c12366-2758-49ff-c2ae-9bd1dacaf2c5"
      },
      "execution_count": 42,
      "outputs": [
        {
          "output_type": "stream",
          "name": "stdout",
          "text": [
            "2\n"
          ]
        }
      ]
    },
    {
      "cell_type": "code",
      "source": [
        "# LINEAR DISCRIMINANT FUNCTIONS\n",
        "\n",
        "# Generalised (g = a^t y)\n",
        "# e.g. g(x) = -1 + x1 + 2*x2\n",
        "# a = (-1, 1, 2)^t\n",
        "# y = (1, x1, x2)^t [n.b. the 1 at the start, needs to be added to Xgrid]\n",
        "\n",
        "# for multiple discriminant functions for classification of multiple classes\n",
        "a1 = np.array([[1.3, -1, -3]])\n",
        "a2 = np.array([[-2, 1, 2]])\n",
        "a3 = np.array([[0.3, 0.1, -0.1]])\n",
        "a4 = np.array([[0, -1, 1]])\n",
        "a5 = np.array([[-0.2, 1.5, -1]])\n",
        "\n",
        "\n",
        "#Ygrid is defined as the same as Xgrid, except it has 1 \n",
        "#at the beginning - this therefore adds a column of ones to the left\n",
        "Ygrid = np.concatenate([np.ones([npx * npy,1]), Xgrid],axis=1) \n",
        "\n",
        "# Adding nonlinearity in the form of x1*x2\n",
        "# new format y = (1, x1, x2, x1*x2)^t\n",
        "Ygrid = np.concatenate([np.ones([npx * npy,1]), Xgrid, np.array([Xgrid[:,0]*Xgrid[:,1]]).T],axis=1) \n",
        "\n",
        "\n",
        "#calculate each of the five functions as before\n",
        "g1 = np.matmul(a1, Ygrid.T) \n",
        "g2 = np.matmul(a2, Ygrid.T) \n",
        "g3 = np.matmul(a3, Ygrid.T) \n",
        "g4 = np.matmul(a4, Ygrid.T) \n",
        "g5 = np.matmul(a5, Ygrid.T)\n",
        "\n",
        "#combine all five functions together\n",
        "gconc = np.concatenate([g1, g2, g3, g4, g5])\n",
        "\n",
        "#find where the maximum value lies\n",
        "omega=np.argmax(gconc,axis=0)\n",
        "\n",
        "#result = numpy.where(arr == numpy.amax(arr))\n",
        "#put back onto 2D grid so it can easily be plotted\n",
        "omega = np.reshape(omega, [npx, npy]) \n",
        "\n",
        "fig, ax = plt.subplots()\n",
        "plt.contourf(x1line, x2line, omega)\n"
      ],
      "metadata": {
        "id": "0Hr-YhFBJH1L"
      },
      "execution_count": null,
      "outputs": []
    },
    {
      "cell_type": "code",
      "source": [
        "# SVM\n",
        "# find decision boundary from two support vectors\n",
        "sv1 = np.array([2, 1]).reshape(-1, 1)\n",
        "sv2 = np.array([0,-1]).reshape(-1, 1)\n",
        "\n",
        "def find_g(sv1, sv2, grid):\n",
        "  w = sv2-sv1\n",
        "  print(w)\n",
        "  xm = (sv1+sv2)/2    # point on db where g(x)=0 is the midpoint between SVs\n",
        "  w0 = -np.matmul(w.T, xm)\n",
        "  print(\"w0: \", w0)\n",
        "  print(w.T)\n",
        "  g = np.matmul(w.T, grid.T) + w0\n",
        "  return g, w, w0\n",
        "g_plot, w, w0 = find_g(sv1, sv2, Xgrid)\n",
        "plt.contourf(x1line, x2line, g_plot.reshape(200,200))\n",
        "plt.colorbar()\n",
        "plt.show()\n",
        "\n",
        "# Soft-Margin Classifiers\n",
        "def g(x, w, w0):\n",
        "  g_out = np.matmul(w.T, x) + w0\n",
        "  if g_out>0:\n",
        "    y = 1;\n",
        "  elif g_out<0:\n",
        "    y =-1;\n",
        "  else:\n",
        "    y=0\n",
        "  return g_out, y\n",
        "  \n",
        "g1, y1 = g(sv1, w, w0)\n",
        "print(\"Margin: \", g1*y1)\n",
        "\n",
        "x_test = np.array([0.5,1]).reshape(-1,1)\n",
        "g2, y2 = g(x_test, w, w0) # Required margin (if on correct side of db)\n",
        "eps1 = 1-((g2*y2)/(g1*y1))\n",
        "print(\"epsilon_1:\", eps1)\n",
        "\n",
        "# for margin if on wrong side of db (so eps2 > 1)\n",
        "eps2 = 1+1-eps1\n",
        "print(\"epsilon_2:\", eps2)"
      ],
      "metadata": {
        "colab": {
          "base_uri": "https://localhost:8080/",
          "height": 388
        },
        "id": "jgdc6jRKPSSc",
        "outputId": "c04c99c8-71f2-4d0a-e39e-600e5e88c2cd"
      },
      "execution_count": 82,
      "outputs": [
        {
          "output_type": "stream",
          "name": "stdout",
          "text": [
            "[[-2]\n",
            " [-2]]\n",
            "w0:  [[2.]]\n",
            "[[-2 -2]]\n"
          ]
        },
        {
          "output_type": "display_data",
          "data": {
            "image/png": "[encoded data removed]",
            "text/plain": [
              "<Figure size 432x288 with 2 Axes>"
            ]
          },
          "metadata": {
            "needs_background": "light"
          }
        },
        {
          "output_type": "stream",
          "name": "stdout",
          "text": [
            "Margin:  [[4.]]\n",
            "epsilon_1: [[0.75]]\n",
            "epsilon_2: [[1.25]]\n"
          ]
        }
      ]
    },
    {
      "cell_type": "code",
      "source": [
        "# NEURAL NETWORKS\n",
        "# rectified linear function\n",
        "def rectified(x):\n",
        "  out = np.array([])\n",
        "  for i in range(0,len(x)):\n",
        "    if (x[i]<0):\n",
        "      out = np.append(out, 0)\n",
        "    else:\n",
        "      out = np.append(out, x[i])\n",
        "  return out\n",
        "\n",
        "def sign(x):\n",
        "  return x/np.abs(x)\n",
        "\n",
        "def sigmoid(x):\n",
        "  out = 1/(1+np.exp(-x))\n",
        "  return out\n",
        "\n",
        "def softplus(x):\n",
        "  return np.log(1+np.exp(x))\n",
        "\n",
        "x = np.linspace(-3,3,200)\n",
        "plt.plot(x, rectified(x))\n",
        "plt.plot(x, sign(x))\n",
        "plt.plot(x, sigmoid(x))\n",
        "plt.plot(x, softplus(x))\n",
        "plt.show()"
      ],
      "metadata": {
        "colab": {
          "base_uri": "https://localhost:8080/",
          "height": 265
        },
        "id": "dkoKyjsm6Axp",
        "outputId": "b6ce57ad-56e8-4606-f994-757512a8fb19"
      },
      "execution_count": 88,
      "outputs": [
        {
          "output_type": "display_data",
          "data": {
            "image/png": "[encoded data removed]",
            "text/plain": [
              "<Figure size 432x288 with 1 Axes>"
            ]
          },
          "metadata": {
            "needs_background": "light"
          }
        }
      ]
    },
    {
      "cell_type": "code",
      "source": [
        "# PARZEN WINDOWS\n",
        "def tophat(u):\n",
        "  out = np.array([])\n",
        "  for i in range(0,len(u)):\n",
        "    if np.abs(u[i])<0.5:\n",
        "      out = np.append(out, 1)\n",
        "    else:\n",
        "      out = np.append(out, 0)\n",
        "  return out\n",
        "\n",
        "d = np.array([-0.6, 1.1])\n",
        "h = 2   # define bandwidth\n",
        "m = len(d)\n",
        "x = np.linspace(-2.5, 2.5, 200)\n",
        "k1 = tophat((x-d[0])/h)\n",
        "k2 = tophat((x-d[1])/h)\n",
        "plt.plot(x, (k1+k2)/(h*m))\n",
        "plt.show()\n",
        "\n",
        "# 2D (2 Parameter)\n",
        "# find number of points that fit both Parzen windows at (1, 0.5)\n",
        "# i.e. the Parzen windows for each parameter would sum to 2\n",
        "h=0.5\n",
        "m=len(x1)\n",
        "d = np.array([1, 0.5])\n",
        "u = (X - d)/h\n",
        "\n",
        "tot = tophat(u[:,0]) + tophat(u[:,1])\n",
        "print(x1[tot==2], ',', x2[tot==2])\n",
        "print(len(x1[tot==2]))\n",
        "# from number within both windows, estimate the p(x)\n",
        "print(len(x1[tot==2])/(m*(h**2)))"
      ],
      "metadata": {
        "colab": {
          "base_uri": "https://localhost:8080/",
          "height": 265
        },
        "id": "sg7TbD4zJH9S",
        "outputId": "2a46f264-427a-4414-c0b3-e73ff0ed1363"
      },
      "execution_count": 89,
      "outputs": [
        {
          "output_type": "display_data",
          "data": {
            "image/png": "[encoded data removed]",
            "text/plain": [
              "<Figure size 432x288 with 1 Axes>"
            ]
          },
          "metadata": {
            "needs_background": "light"
          }
        }
      ]
    },
    {
      "cell_type": "code",
      "source": [
        "# K NEAREST NEIGHBOURS\n",
        "data = np.array([[-1.5, 0.9],\n",
        "                 [0.3, 0.7],\n",
        "                 [0.5, -0.9],\n",
        "                 [-0.1, -1.2],\n",
        "                 [-0.2, 0.6],\n",
        "                 [1.3, -1.1]])\n",
        "data_y = np.array([0, 1, 1, 0, 0, 1])\n",
        "test = np.array([0.2, -0.1])\n",
        "plt.scatter(data[data_y==0,0], data[data_y==0,1])\n",
        "plt.scatter(data[data_y==1,0], data[data_y==1,1])\n",
        "plt.scatter(test[0], test[1])\n",
        "\n",
        "def k_nn(data, test, data_y, k):\n",
        "  dist = []\n",
        "  for i in range(0, len(data)):\n",
        "    dist += [np.linalg.norm(data[i]-test)]\n",
        "\n",
        "  idx = np.argpartition(np.array(dist), k)[:k]\n",
        "  #print(idx)\n",
        "  print(\"k Closest Points:\", data[idx])\n",
        "  print(\"Voting:\", data_y[idx])\n",
        "  return \n",
        "\n",
        "k_nn_test = k_nn(data, test, data_y, 3)"
      ],
      "metadata": {
        "colab": {
          "base_uri": "https://localhost:8080/",
          "height": 337
        },
        "id": "ogt7ptc3CBOY",
        "outputId": "5c6b693d-8064-4dec-b018-fbcbc58ea8e4"
      },
      "execution_count": 107,
      "outputs": [
        {
          "output_type": "stream",
          "name": "stdout",
          "text": [
            "k Closest Points: [[ 0.3  0.7]\n",
            " [-0.2  0.6]\n",
            " [ 0.5 -0.9]]\n",
            "Voting: [1 0 1]\n"
          ]
        },
        {
          "output_type": "display_data",
          "data": {
            "image/png": "[encoded data removed]",
            "text/plain": [
              "<Figure size 432x288 with 1 Axes>"
            ]
          },
          "metadata": {
            "needs_background": "light"
          }
        }
      ]
    },
    {
      "cell_type": "code",
      "source": [
        "# DECISION TREES\n",
        "# Can be modelled as nested set of if statements\n",
        "if x1 >= 2:\n",
        "  if x2 < 9:\n",
        "    if (x2-1)/(x1_2) >np.tan(40*pi/180):\n",
        "      # continued...\n",
        "    else:\n",
        "      omeg = 1\n",
        "  else:\n",
        "    omeg = 1\n",
        "else:\n",
        "  omeg = 1\n",
        "\n",
        "# Gini Impurity\n",
        "i = 1 - (prior_1**2 + prior_2**2)"
      ],
      "metadata": {
        "id": "NoQzMeeBJ4_A"
      },
      "execution_count": null,
      "outputs": []
    },
    {
      "cell_type": "code",
      "source": [
        "# K MEANS CLUSTERING\n",
        "data = np.array([[-1.5, 0.9],\n",
        "                 [0.3, 0.7],\n",
        "                 [0.5, -0.9],\n",
        "                 [-0.1, -1.2],\n",
        "                 [-0.2, 0.6],\n",
        "                 [1.3, -1.1]])\n",
        "start = np.array([[-1, 1],    #1st mean\n",
        "                  [1, -1]])   #2nd mean\n",
        "plt.scatter(data[:,0], data[:,1])\n",
        "plt.scatter(start[:, 0], start[:, 1])\n",
        "\n",
        "def k_means_clustering(data, start, k, it):\n",
        "  dist = np.array([])\n",
        "  for i in range(0, len(data)):\n",
        "    for n in range(0, k):\n",
        "      dist = np.append(dist, np.linalg.norm(data[i]-start[n]))\n",
        "  #print(dist.reshape(-1, 2))    #col1 = distance of point from mean 1, etc.\n",
        "  print(np.argmax(dist.reshape(-1, 2), axis=-1))\n",
        "  #idx = np.argpartition(np.array(dist), k)[:k]\n",
        "\n",
        "  return \n",
        "\n",
        "kmc_test = k_means_clustering(data, start, 2, 1)\n"
      ],
      "metadata": {
        "colab": {
          "base_uri": "https://localhost:8080/",
          "height": 384
        },
        "id": "eeEz3pqLMf2H",
        "outputId": "718bf2c7-bc9c-4a47-da36-6835c50a6c9e"
      },
      "execution_count": 117,
      "outputs": [
        {
          "output_type": "stream",
          "name": "stdout",
          "text": [
            "[[0.50990195 3.14006369]\n",
            " [1.33416641 1.83847763]\n",
            " [2.42074369 0.50990195]\n",
            " [2.37697286 1.11803399]\n",
            " [0.89442719 2.        ]\n",
            " [3.1144823  0.31622777]]\n",
            "[1 1 0 0 1 0]\n"
          ]
        },
        {
          "output_type": "display_data",
          "data": {
            "image/png": "[encoded data removed]",
            "text/plain": [
              "<Figure size 432x288 with 1 Axes>"
            ]
          },
          "metadata": {
            "needs_background": "light"
          }
        }
      ]
    },
    {
      "cell_type": "code",
      "source": [
        "# PCA\n",
        "\n",
        "def PC_fromC(cov):\n",
        "  # GET PCs\n",
        "  w, v = np.linalg.eig(cov)\n",
        "  idx = np.argsort(w)\n",
        "  w = w[idx]\n",
        "  v = v[:,idx]\n",
        "  print(\"Eigenvalues (Variance): \", w)\n",
        "  print(\"Eigenvectors (PCs): \", v)\n",
        "  return\n",
        "\n",
        "PC_fromC(C)\n",
        "\n"
      ],
      "metadata": {
        "colab": {
          "base_uri": "https://localhost:8080/"
        },
        "id": "m8xtCBiJ7eew",
        "outputId": "c2abd082-a33e-4c0d-8158-8e351e718b26"
      },
      "execution_count": 32,
      "outputs": [
        {
          "output_type": "stream",
          "name": "stdout",
          "text": [
            "Eigenvalues (Variance):  [0.13148291 2.53518376]\n",
            "Eigenvectors (PCs):  [[-0.8816746  -0.47185793]\n",
            " [ 0.47185793 -0.8816746 ]]\n"
          ]
        }
      ]
    },
    {
      "cell_type": "code",
      "source": [
        "# SCALING\n",
        "\n",
        "df = pandas.read_csv('http://pogo.software/me4ml/tensile_strength.csv')\n",
        "t = np.array(df['Temperature (deg C)'][:])\n",
        "s = np.array(df['Ultimate tensile strength (Pa)'][:])\n",
        "t_mean = np.mean(t)\n",
        "s_mean = np.mean(s)\n",
        "t_std = np.std(t)\n",
        "s_std = np.std(s)\n",
        "\n",
        "t_scale = (t-t_mean)/t_std\n",
        "s_scale = (s-s_mean)/s_std\n",
        "\n",
        "scArray = np.array([[t_mean, s_mean],\n",
        "                    [t_std,   s_std]])\n",
        "\n",
        "X_unscaled = np.concatenate((t.reshape(-1,1), s.reshape(-1,1)), axis=1)\n",
        "X_scaled = (X_unscaled-scArray[0,:])/scArray[1,:]\n",
        "#print(X_unscaled)\n",
        "#print(X_scaled)\n"
      ],
      "metadata": {
        "id": "XOesTjxiFQ9e"
      },
      "execution_count": 62,
      "outputs": []
    }
  ]
}